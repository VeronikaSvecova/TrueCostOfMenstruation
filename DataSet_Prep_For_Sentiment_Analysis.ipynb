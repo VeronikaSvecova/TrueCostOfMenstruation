{
 "cells": [
  {
   "cell_type": "code",
   "execution_count": 3,
   "metadata": {},
   "outputs": [],
   "source": [
    "\"\"\"\n",
    "Příprava funkce pro zeštíhlení datasetu. Příprava sloupců ratings, average ratings_avg a reviews, \n",
    "kdy skupina reviews a skupina ratingu náleží jednomu produktu.\n",
    "\"\"\"\n",
    "\n",
    "import pandas as pd\n",
    "import numpy as np\n",
    "\n",
    "def clean_df(df):\n",
    "    df_summary = pd.concat([df.filter(like = 'cons') , df.filter(like ='pros') , df.filter(like='summary')], axis=1)\n",
    "    df_summary = df_summary.fillna('')\n",
    "    df_summary['reviews'] = df_summary.apply(lambda row: \"\\n\".join(filter(None, row.values.astype(str))), axis=1) #.replace('\\n+','\\n')\n",
    "    df_rating = df.filter(like = 'rating')\n",
    "    df_rating['ratings'] = df_rating.values.tolist()\n",
    "    df_rating['ratings_avg'] = df_rating['ratings'].apply(np.nanmean)\n",
    "    return pd.concat([df.iloc[:,0:3], df_rating['ratings'], df_rating['ratings_avg'], df_summary['reviews']], axis=1)"
   ]
  },
  {
   "cell_type": "code",
   "execution_count": null,
   "metadata": {},
   "outputs": [],
   "source": [
    "\"\"\"\n",
    "Aplikace funkce na jednotlivé datasety.\n",
    "\"\"\"\n",
    "\n",
    "df_tampony = pd.read_csv('./data/Heureka_Tampony.csv')\n",
    "df_tampony = clean_df(df_tampony)\n",
    "df_tampony.head(100)"
   ]
  },
  {
   "cell_type": "code",
   "execution_count": null,
   "metadata": {},
   "outputs": [],
   "source": [
    "df_vlozky = pd.read_csv('./data/Heureka_Vlozky.csv')\n",
    "df_vlozky = clean_df(df_vlozky)"
   ]
  },
  {
   "cell_type": "code",
   "execution_count": null,
   "metadata": {},
   "outputs": [],
   "source": [
    "df_kalisek = pd.read_csv('./data/Heureka_Kalisek.csv')\n",
    "df_kalisek = clean_df(df_kalisek)"
   ]
  },
  {
   "cell_type": "code",
   "execution_count": null,
   "metadata": {},
   "outputs": [],
   "source": [
    "df_kalhotky = pd.read_csv('./data/Heureka_Kalhotky.csv')\n",
    "df_kalhotky = clean_df(df_kalhotky)"
   ]
  },
  {
   "cell_type": "code",
   "execution_count": null,
   "metadata": {},
   "outputs": [],
   "source": [
    "\"\"\"\n",
    "Spojení datasetů pod sebe a příprava nového DataFrame result. \n",
    "\"\"\"\n",
    "frames = [df_kalhotky, df_kalisek, df_tampony, df_vlozky]\n",
    "\n",
    "result = pd.concat(frames)\n",
    "result.tail()"
   ]
  },
  {
   "cell_type": "code",
   "execution_count": 10,
   "metadata": {},
   "outputs": [],
   "source": [
    "\"\"\"\n",
    "Vypsání data setu do CSV.\n",
    "\"\"\"\n",
    "result.to_csv('Union_reviews.csv', index=False)"
   ]
  },
  {
   "cell_type": "code",
   "execution_count": 11,
   "metadata": {},
   "outputs": [
    {
     "data": {
      "text/plain": [
       "(1405, 6)"
      ]
     },
     "execution_count": 11,
     "metadata": {},
     "output_type": "execute_result"
    }
   ],
   "source": [
    "result.shape\n"
   ]
  }
 ],
 "metadata": {
  "kernelspec": {
   "display_name": "Python 3",
   "language": "python",
   "name": "python3"
  },
  "language_info": {
   "codemirror_mode": {
    "name": "ipython",
    "version": 3
   },
   "file_extension": ".py",
   "mimetype": "text/x-python",
   "name": "python",
   "nbconvert_exporter": "python",
   "pygments_lexer": "ipython3",
   "version": "3.11.6"
  }
 },
 "nbformat": 4,
 "nbformat_minor": 2
}
